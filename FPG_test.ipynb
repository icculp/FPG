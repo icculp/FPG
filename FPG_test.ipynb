{
  "nbformat": 4,
  "nbformat_minor": 0,
  "metadata": {
    "colab": {
      "name": "FPG_test.ipynb",
      "provenance": [],
      "authorship_tag": "ABX9TyPuiqo2MN09o5Uvz3IAYI+j",
      "include_colab_link": true
    },
    "kernelspec": {
      "name": "python3",
      "display_name": "Python 3"
    },
    "language_info": {
      "name": "python"
    }
  },
  "cells": [
    {
      "cell_type": "markdown",
      "metadata": {
        "id": "view-in-github",
        "colab_type": "text"
      },
      "source": [
        "<a href=\"https://colab.research.google.com/github/icculp/FPG/blob/main/FPG_test.ipynb\" target=\"_parent\"><img src=\"https://colab.research.google.com/assets/colab-badge.svg\" alt=\"Open In Colab\"/></a>"
      ]
    },
    {
      "cell_type": "code",
      "metadata": {
        "colab": {
          "base_uri": "https://localhost:8080/"
        },
        "id": "0g8OetR5_Bqr",
        "outputId": "77632255-d207-4cd4-94e8-b42a4de3964e"
      },
      "source": [
        "!pip install web3"
      ],
      "execution_count": 1,
      "outputs": [
        {
          "output_type": "stream",
          "name": "stdout",
          "text": [
            "Requirement already satisfied: web3 in /usr/local/lib/python3.7/dist-packages (5.25.0)\n",
            "Requirement already satisfied: eth-utils<2.0.0,>=1.9.5 in /usr/local/lib/python3.7/dist-packages (from web3) (1.10.0)\n",
            "Requirement already satisfied: typing-extensions<4,>=3.7.4.1 in /usr/local/lib/python3.7/dist-packages (from web3) (3.10.0.2)\n",
            "Requirement already satisfied: ipfshttpclient==0.8.0a2 in /usr/local/lib/python3.7/dist-packages (from web3) (0.8.0a2)\n",
            "Requirement already satisfied: websockets<10,>=9.1 in /usr/local/lib/python3.7/dist-packages (from web3) (9.1)\n",
            "Requirement already satisfied: requests<3.0.0,>=2.16.0 in /usr/local/lib/python3.7/dist-packages (from web3) (2.23.0)\n",
            "Requirement already satisfied: aiohttp<4,>=3.7.4.post0 in /usr/local/lib/python3.7/dist-packages (from web3) (3.8.1)\n",
            "Requirement already satisfied: eth-hash[pycryptodome]<1.0.0,>=0.2.0 in /usr/local/lib/python3.7/dist-packages (from web3) (0.3.2)\n",
            "Requirement already satisfied: protobuf<4,>=3.10.0 in /usr/local/lib/python3.7/dist-packages (from web3) (3.17.3)\n",
            "Requirement already satisfied: jsonschema<4.0.0,>=3.2.0 in /usr/local/lib/python3.7/dist-packages (from web3) (3.2.0)\n",
            "Requirement already satisfied: hexbytes<1.0.0,>=0.1.0 in /usr/local/lib/python3.7/dist-packages (from web3) (0.2.2)\n",
            "Requirement already satisfied: eth-account<0.6.0,>=0.5.6 in /usr/local/lib/python3.7/dist-packages (from web3) (0.5.6)\n",
            "Requirement already satisfied: eth-abi<3.0.0,>=2.0.0b6 in /usr/local/lib/python3.7/dist-packages (from web3) (2.1.1)\n",
            "Requirement already satisfied: eth-typing<3.0.0,>=2.0.0 in /usr/local/lib/python3.7/dist-packages (from web3) (2.2.2)\n",
            "Requirement already satisfied: lru-dict<2.0.0,>=1.1.6 in /usr/local/lib/python3.7/dist-packages (from web3) (1.1.7)\n",
            "Requirement already satisfied: multiaddr>=0.0.7 in /usr/local/lib/python3.7/dist-packages (from ipfshttpclient==0.8.0a2->web3) (0.0.9)\n",
            "Requirement already satisfied: aiosignal>=1.1.2 in /usr/local/lib/python3.7/dist-packages (from aiohttp<4,>=3.7.4.post0->web3) (1.2.0)\n",
            "Requirement already satisfied: frozenlist>=1.1.1 in /usr/local/lib/python3.7/dist-packages (from aiohttp<4,>=3.7.4.post0->web3) (1.2.0)\n",
            "Requirement already satisfied: async-timeout<5.0,>=4.0.0a3 in /usr/local/lib/python3.7/dist-packages (from aiohttp<4,>=3.7.4.post0->web3) (4.0.1)\n",
            "Requirement already satisfied: attrs>=17.3.0 in /usr/local/lib/python3.7/dist-packages (from aiohttp<4,>=3.7.4.post0->web3) (21.2.0)\n",
            "Requirement already satisfied: multidict<7.0,>=4.5 in /usr/local/lib/python3.7/dist-packages (from aiohttp<4,>=3.7.4.post0->web3) (5.2.0)\n",
            "Requirement already satisfied: charset-normalizer<3.0,>=2.0 in /usr/local/lib/python3.7/dist-packages (from aiohttp<4,>=3.7.4.post0->web3) (2.0.8)\n",
            "Requirement already satisfied: asynctest==0.13.0 in /usr/local/lib/python3.7/dist-packages (from aiohttp<4,>=3.7.4.post0->web3) (0.13.0)\n",
            "Requirement already satisfied: yarl<2.0,>=1.0 in /usr/local/lib/python3.7/dist-packages (from aiohttp<4,>=3.7.4.post0->web3) (1.7.2)\n",
            "Requirement already satisfied: parsimonious<0.9.0,>=0.8.0 in /usr/local/lib/python3.7/dist-packages (from eth-abi<3.0.0,>=2.0.0b6->web3) (0.8.1)\n",
            "Requirement already satisfied: rlp<3,>=1.0.0 in /usr/local/lib/python3.7/dist-packages (from eth-account<0.6.0,>=0.5.6->web3) (2.0.1)\n",
            "Requirement already satisfied: eth-keyfile<0.6.0,>=0.5.0 in /usr/local/lib/python3.7/dist-packages (from eth-account<0.6.0,>=0.5.6->web3) (0.5.1)\n",
            "Requirement already satisfied: eth-keys!=0.3.2,<0.4.0,>=0.2.1 in /usr/local/lib/python3.7/dist-packages (from eth-account<0.6.0,>=0.5.6->web3) (0.3.3)\n",
            "Requirement already satisfied: eth-rlp<2,>=0.1.2 in /usr/local/lib/python3.7/dist-packages (from eth-account<0.6.0,>=0.5.6->web3) (0.2.1)\n",
            "Requirement already satisfied: bitarray<1.3.0,>=1.2.1 in /usr/local/lib/python3.7/dist-packages (from eth-account<0.6.0,>=0.5.6->web3) (1.2.2)\n",
            "Requirement already satisfied: pycryptodome<4,>=3.6.6 in /usr/local/lib/python3.7/dist-packages (from eth-hash[pycryptodome]<1.0.0,>=0.2.0->web3) (3.11.0)\n",
            "Requirement already satisfied: cytoolz<1.0.0,>=0.9.0 in /usr/local/lib/python3.7/dist-packages (from eth-keyfile<0.6.0,>=0.5.0->eth-account<0.6.0,>=0.5.6->web3) (0.11.2)\n",
            "Requirement already satisfied: toolz>=0.8.0 in /usr/local/lib/python3.7/dist-packages (from cytoolz<1.0.0,>=0.9.0->eth-keyfile<0.6.0,>=0.5.0->eth-account<0.6.0,>=0.5.6->web3) (0.11.2)\n",
            "Requirement already satisfied: pyrsistent>=0.14.0 in /usr/local/lib/python3.7/dist-packages (from jsonschema<4.0.0,>=3.2.0->web3) (0.18.0)\n",
            "Requirement already satisfied: setuptools in /usr/local/lib/python3.7/dist-packages (from jsonschema<4.0.0,>=3.2.0->web3) (57.4.0)\n",
            "Requirement already satisfied: six>=1.11.0 in /usr/local/lib/python3.7/dist-packages (from jsonschema<4.0.0,>=3.2.0->web3) (1.15.0)\n",
            "Requirement already satisfied: importlib-metadata in /usr/local/lib/python3.7/dist-packages (from jsonschema<4.0.0,>=3.2.0->web3) (4.8.2)\n",
            "Requirement already satisfied: base58 in /usr/local/lib/python3.7/dist-packages (from multiaddr>=0.0.7->ipfshttpclient==0.8.0a2->web3) (2.1.1)\n",
            "Requirement already satisfied: varint in /usr/local/lib/python3.7/dist-packages (from multiaddr>=0.0.7->ipfshttpclient==0.8.0a2->web3) (1.0.2)\n",
            "Requirement already satisfied: netaddr in /usr/local/lib/python3.7/dist-packages (from multiaddr>=0.0.7->ipfshttpclient==0.8.0a2->web3) (0.8.0)\n",
            "Requirement already satisfied: urllib3!=1.25.0,!=1.25.1,<1.26,>=1.21.1 in /usr/local/lib/python3.7/dist-packages (from requests<3.0.0,>=2.16.0->web3) (1.24.3)\n",
            "Requirement already satisfied: idna<3,>=2.5 in /usr/local/lib/python3.7/dist-packages (from requests<3.0.0,>=2.16.0->web3) (2.10)\n",
            "Requirement already satisfied: chardet<4,>=3.0.2 in /usr/local/lib/python3.7/dist-packages (from requests<3.0.0,>=2.16.0->web3) (3.0.4)\n",
            "Requirement already satisfied: certifi>=2017.4.17 in /usr/local/lib/python3.7/dist-packages (from requests<3.0.0,>=2.16.0->web3) (2021.10.8)\n",
            "Requirement already satisfied: zipp>=0.5 in /usr/local/lib/python3.7/dist-packages (from importlib-metadata->jsonschema<4.0.0,>=3.2.0->web3) (3.6.0)\n"
          ]
        }
      ]
    },
    {
      "cell_type": "code",
      "metadata": {
        "colab": {
          "base_uri": "https://localhost:8080/"
        },
        "id": "_aClkexi_Doe",
        "outputId": "7ef733fe-3502-4f2f-8146-5016d4772918"
      },
      "source": [
        "!pip install jsonschema==3.2.0"
      ],
      "execution_count": 2,
      "outputs": [
        {
          "output_type": "stream",
          "name": "stdout",
          "text": [
            "Requirement already satisfied: jsonschema==3.2.0 in /usr/local/lib/python3.7/dist-packages (3.2.0)\n",
            "Requirement already satisfied: six>=1.11.0 in /usr/local/lib/python3.7/dist-packages (from jsonschema==3.2.0) (1.15.0)\n",
            "Requirement already satisfied: pyrsistent>=0.14.0 in /usr/local/lib/python3.7/dist-packages (from jsonschema==3.2.0) (0.18.0)\n",
            "Requirement already satisfied: setuptools in /usr/local/lib/python3.7/dist-packages (from jsonschema==3.2.0) (57.4.0)\n",
            "Requirement already satisfied: attrs>=17.4.0 in /usr/local/lib/python3.7/dist-packages (from jsonschema==3.2.0) (21.2.0)\n",
            "Requirement already satisfied: importlib-metadata in /usr/local/lib/python3.7/dist-packages (from jsonschema==3.2.0) (4.8.2)\n",
            "Requirement already satisfied: zipp>=0.5 in /usr/local/lib/python3.7/dist-packages (from importlib-metadata->jsonschema==3.2.0) (3.6.0)\n",
            "Requirement already satisfied: typing-extensions>=3.6.4 in /usr/local/lib/python3.7/dist-packages (from importlib-metadata->jsonschema==3.2.0) (3.10.0.2)\n"
          ]
        }
      ]
    },
    {
      "cell_type": "code",
      "metadata": {
        "id": "emoqIqkY--HV"
      },
      "source": [
        "import web3\n",
        "import requests\n",
        "import os"
      ],
      "execution_count": 3,
      "outputs": []
    },
    {
      "cell_type": "code",
      "metadata": {
        "id": "dXR82XlOdC_V"
      },
      "source": [
        "os.environ['WEB3_INFURA_PROJECT_ID'] = '3869a1c0f68f40d19ea46789566b97f9'"
      ],
      "execution_count": 4,
      "outputs": []
    },
    {
      "cell_type": "code",
      "metadata": {
        "id": "L3PoTFmJQl1E"
      },
      "source": [
        "infura_url='https://ropsten.infura.io/v3/3869a1c0f68f40d19ea46789566b97f9' \n",
        "w3 = web3.Web3(web3.Web3.HTTPProvider(infura_url))"
      ],
      "execution_count": 5,
      "outputs": []
    },
    {
      "cell_type": "code",
      "metadata": {
        "id": "NviPdKHf_cBi"
      },
      "source": [
        "def approve(token, spender_address, wallet_address, private_key, max_amount=None):\n",
        "    '''\n",
        "        used this as my starting point, then stumbled through docs and stackoverflow posts to figure out the rest:\n",
        "        https://stackoverflow.com/questions/65994914/how-to-approve-a-token-for-spending-on-uniswap-router-contract\n",
        "\n",
        "        this will create the approval transaction, but still need to connect to node and send tx to the network\n",
        "        I created a new account in metamask to provide the private key\n",
        "    '''\n",
        "\n",
        "    spender = spender_address #web3.toWei \n",
        "    if max_amount is None:\n",
        "        max_amount = web3.toWei(2**64-1, 'ether') # assuming should be in eth\n",
        "    #else:\n",
        "    #    max_amount = web3.toWei(max_amount, 'ether')\n",
        "    nonce = w3.eth.getTransactionCount(wallet_address)\n",
        "\n",
        "    tx = token.functions.approve(spender, max_amount).buildTransaction({\n",
        "        'from': wallet_address, \n",
        "        'nonce': nonce,\n",
        "        })\n",
        "    gas = w3.eth.estimateGas(tx)\n",
        "    print(gas)\n",
        "    tx_with_gas = token.functions.approve(spender, max_amount).buildTransaction({\n",
        "        'from': wallet_address, \n",
        "        'nonce': nonce,\n",
        "        'gas': gas\n",
        "        })\n",
        "    signed_tx = w3.eth.account.signTransaction(tx_with_gas, private_key)\n",
        "    tx_hash = w3.eth.sendRawTransaction(signed_tx.rawTransaction) \n",
        "    # print(tx_hash)\n",
        "    return w3.toHex(tx_hash)"
      ],
      "execution_count": 6,
      "outputs": []
    },
    {
      "cell_type": "code",
      "metadata": {
        "colab": {
          "base_uri": "https://localhost:8080/"
        },
        "id": "Ndj3X_ePwVle",
        "outputId": "67616677-94d0-4999-8e18-a471c68e8a6e"
      },
      "source": [
        "# '0x07865c6E87B9F70255377e024ace6630C1Eaa37F'\n",
        "# '0xfe724a829fdf12f7012365db98730eee33742ea2'\n",
        "# '0xA0b86991c6218b36c1d19D4a2e9Eb0cE3606eB48' mainnet contract, only an address on ropsten, ran into weird issues\n",
        "USDC_Contract_Hash = web3.Web3.toChecksumAddress('0xFE724a829fdF12F7012365dB98730EEe33742ea2')\n",
        "print(USDC_Contract_Hash)\n",
        "Metamask_test_wallet_public_key = '0x882DC36ea09Fa3028A9D7aa63873059960b761ec'\n",
        "Metamask_test_wallet_private_key = 'ab0aa0d8ed12c75a241d4188593859c8bfdf07ad07dafcaeb2a8c0b0ea6037e9'\n",
        "Uni_V3_Router = '0xE592427A0AEce92De3Edee1F18E0157C05861564'\n",
        "ABI = requests.get('https://gist.githubusercontent.com/veox/8800debbf56e24718f9f483e1e40c35c/raw/f853187315486225002ba56e5283c1dba0556e6f/erc20.abi.json').json()\n",
        "\n",
        "# ABI = '[{\"inputs\":[{\"internalType\":\"address\",\"name\":\"account\",\"type\":\"address\"},{\"internalType\":\"address\",\"name\":\"minter_\",\"type\":\"address\"},...'"
      ],
      "execution_count": 7,
      "outputs": [
        {
          "output_type": "stream",
          "name": "stdout",
          "text": [
            "0xFE724a829fdF12F7012365dB98730EEe33742ea2\n"
          ]
        }
      ]
    },
    {
      "cell_type": "code",
      "metadata": {
        "colab": {
          "base_uri": "https://localhost:8080/"
        },
        "id": "UGZrIQ-FFvw3",
        "outputId": "8b32310b-aab6-4809-dbf2-5be7f92208f6"
      },
      "source": [
        "USDC_Contract_Instance = w3.eth.contract(USDC_Contract_Hash, abi=ABI)\n",
        "\n",
        "approval_tx_hash = approve(\n",
        "    token=USDC_Contract_Instance,\n",
        "    spender_address=Uni_V3_Router,\n",
        "    wallet_address=Metamask_test_wallet_public_key,\n",
        "    private_key=Metamask_test_wallet_private_key,\n",
        "    max_amount=100\n",
        ")"
      ],
      "execution_count": 8,
      "outputs": [
        {
          "output_type": "stream",
          "name": "stdout",
          "text": [
            "26126\n"
          ]
        }
      ]
    },
    {
      "cell_type": "code",
      "metadata": {
        "colab": {
          "base_uri": "https://localhost:8080/"
        },
        "id": "QjJ_oIv-ZYC1",
        "outputId": "8ee6db00-9d37-4091-f9dd-538fba77b359"
      },
      "source": [
        "print(\"TX Hash for approval transaction: \\n{}\".format(approval_tx_hash))"
      ],
      "execution_count": 9,
      "outputs": [
        {
          "output_type": "stream",
          "name": "stdout",
          "text": [
            "TX Hash for approval transaction: \n",
            "0x265e71d42250de32463016de59c331e3294a455197995a92e8e3ea4fcf992313\n"
          ]
        }
      ]
    },
    {
      "cell_type": "code",
      "metadata": {
        "colab": {
          "base_uri": "https://localhost:8080/"
        },
        "id": "JCqOARy-QaVl",
        "outputId": "37b5c24b-1e23-4fa6-dd36-2b3a27aba0d6"
      },
      "source": [
        "# Verify allowance\n",
        "USDC_Contract_Instance.functions.allowance(Metamask_test_wallet_public_key, Uni_V3_Router).call()"
      ],
      "execution_count": 10,
      "outputs": [
        {
          "output_type": "execute_result",
          "data": {
            "text/plain": [
              "100"
            ]
          },
          "metadata": {},
          "execution_count": 10
        }
      ]
    }
  ]
}